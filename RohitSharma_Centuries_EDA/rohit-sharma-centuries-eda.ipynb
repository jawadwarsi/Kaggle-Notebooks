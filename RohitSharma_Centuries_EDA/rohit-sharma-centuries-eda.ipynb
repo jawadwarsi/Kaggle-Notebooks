{
 "cells": [
  {
   "cell_type": "code",
   "execution_count": 66,
   "id": "2185cf51",
   "metadata": {
    "_cell_guid": "b1076dfc-b9ad-4769-8c92-a6c4dae69d19",
    "_uuid": "8f2839f25d086af736a60e9eeb907d3b93b6e0e5",
    "execution": {
     "iopub.execute_input": "2024-06-02T13:49:06.393978Z",
     "iopub.status.busy": "2024-06-02T13:49:06.393514Z",
     "iopub.status.idle": "2024-06-02T13:49:07.484830Z",
     "shell.execute_reply": "2024-06-02T13:49:07.483082Z"
    },
    "papermill": {
     "duration": 1.107177,
     "end_time": "2024-06-02T13:49:07.488147",
     "exception": false,
     "start_time": "2024-06-02T13:49:06.380970",
     "status": "completed"
    },
    "tags": []
   },
   "outputs": [],
   "source": [
    "# This Python 3 environment comes with many helpful analytics libraries installed\n",
    "# It is defined by the kaggle/python Docker image: https://github.com/kaggle/docker-python\n",
    "# For example, here's several helpful packages to load\n",
    "\n",
    "#import numpy as np # linear algebra\n",
    "#import pandas as pd # data processing, CSV file I/O (e.g. pd.read_csv)\n",
    "\n",
    "# Input data files are available in the read-only \"../input/\" directory\n",
    "# For example, running this (by clicking run or pressing Shift+Enter) will list all files under the input directory\n",
    "\n",
    "import os\n",
    "for dirname, _, filenames in os.walk('/kaggle/input'):\n",
    "    for filename in filenames:\n",
    "        print(os.path.join(dirname, filename))\n",
    "\n",
    "# You can write up to 20GB to the current directory (/kaggle/working/) that gets preserved as output when you create a version using \"Save & Run All\" \n",
    "# You can also write temporary files to /kaggle/temp/, but they won't be saved outside of the current session"
   ]
  },
  {
   "cell_type": "markdown",
   "id": "b3bd8d38",
   "metadata": {
    "papermill": {
     "duration": 0.01022,
     "end_time": "2024-06-02T13:49:07.509780",
     "exception": false,
     "start_time": "2024-06-02T13:49:07.499560",
     "status": "completed"
    },
    "tags": []
   },
   "source": [
    "# **Importing Packages**"
   ]
  },
  {
   "cell_type": "code",
   "execution_count": 67,
   "id": "83f4907a",
   "metadata": {
    "execution": {
     "iopub.execute_input": "2024-06-02T13:49:07.533549Z",
     "iopub.status.busy": "2024-06-02T13:49:07.532897Z",
     "iopub.status.idle": "2024-06-02T13:49:09.994134Z",
     "shell.execute_reply": "2024-06-02T13:49:09.992726Z"
    },
    "papermill": {
     "duration": 2.476686,
     "end_time": "2024-06-02T13:49:09.997300",
     "exception": false,
     "start_time": "2024-06-02T13:49:07.520614",
     "status": "completed"
    },
    "tags": []
   },
   "outputs": [],
   "source": [
    "import numpy as np\n",
    "import pandas as pd\n",
    "import matplotlib.pyplot as plt\n",
    "import plotly.express as px\n",
    "import seaborn as sns\n",
    "import plotly.io as pio"
   ]
  },
  {
   "cell_type": "markdown",
   "id": "3eb237de",
   "metadata": {},
   "source": [
    "## Dataset Link :\n",
    "https://www.kaggle.com/datasets/mayankanand2701/rohit-sharma-international-centuries"
   ]
  },
  {
   "cell_type": "code",
   "execution_count": 68,
   "id": "a3565708",
   "metadata": {
    "execution": {
     "iopub.execute_input": "2024-06-02T13:49:10.019459Z",
     "iopub.status.busy": "2024-06-02T13:49:10.019069Z",
     "iopub.status.idle": "2024-06-02T13:49:10.068605Z",
     "shell.execute_reply": "2024-06-02T13:49:10.067235Z"
    },
    "papermill": {
     "duration": 0.063561,
     "end_time": "2024-06-02T13:49:10.071439",
     "exception": false,
     "start_time": "2024-06-02T13:49:10.007878",
     "status": "completed"
    },
    "tags": []
   },
   "outputs": [
    {
     "data": {
      "text/html": [
       "<div>\n",
       "<style scoped>\n",
       "    .dataframe tbody tr th:only-of-type {\n",
       "        vertical-align: middle;\n",
       "    }\n",
       "\n",
       "    .dataframe tbody tr th {\n",
       "        vertical-align: top;\n",
       "    }\n",
       "\n",
       "    .dataframe thead th {\n",
       "        text-align: right;\n",
       "    }\n",
       "</style>\n",
       "<table border=\"1\" class=\"dataframe\">\n",
       "  <thead>\n",
       "    <tr style=\"text-align: right;\">\n",
       "      <th></th>\n",
       "      <th>S.No.</th>\n",
       "      <th>Date</th>\n",
       "      <th>Score</th>\n",
       "      <th>Strike Rate</th>\n",
       "      <th>Type of Match</th>\n",
       "      <th>Position</th>\n",
       "      <th>Innings</th>\n",
       "      <th>Dismissed</th>\n",
       "      <th>Man of the Match</th>\n",
       "      <th>Captain</th>\n",
       "      <th>Against</th>\n",
       "      <th>Venue</th>\n",
       "      <th>H/A/N</th>\n",
       "      <th>Result</th>\n",
       "    </tr>\n",
       "  </thead>\n",
       "  <tbody>\n",
       "    <tr>\n",
       "      <th>0</th>\n",
       "      <td>1</td>\n",
       "      <td>28-05-2010</td>\n",
       "      <td>114</td>\n",
       "      <td>95.79</td>\n",
       "      <td>ODI</td>\n",
       "      <td>4</td>\n",
       "      <td>1</td>\n",
       "      <td>Yes</td>\n",
       "      <td>No</td>\n",
       "      <td>No</td>\n",
       "      <td>Zimbabwe</td>\n",
       "      <td>Queens Sports Club, Bulawayo</td>\n",
       "      <td>Away</td>\n",
       "      <td>Lost</td>\n",
       "    </tr>\n",
       "    <tr>\n",
       "      <th>1</th>\n",
       "      <td>2</td>\n",
       "      <td>30-05-2010</td>\n",
       "      <td>101</td>\n",
       "      <td>170.00</td>\n",
       "      <td>ODI</td>\n",
       "      <td>4</td>\n",
       "      <td>2</td>\n",
       "      <td>No</td>\n",
       "      <td>Yes</td>\n",
       "      <td>No</td>\n",
       "      <td>Sri Lanka</td>\n",
       "      <td>Queens Sports Club, Bulawayo</td>\n",
       "      <td>Neutral</td>\n",
       "      <td>Won</td>\n",
       "    </tr>\n",
       "    <tr>\n",
       "      <th>2</th>\n",
       "      <td>3</td>\n",
       "      <td>16-10-2013</td>\n",
       "      <td>141</td>\n",
       "      <td>114.63</td>\n",
       "      <td>ODI</td>\n",
       "      <td>1</td>\n",
       "      <td>2</td>\n",
       "      <td>No</td>\n",
       "      <td>Yes</td>\n",
       "      <td>No</td>\n",
       "      <td>Australia</td>\n",
       "      <td>Sawai Mansingh Stadium, Jaipur</td>\n",
       "      <td>Home</td>\n",
       "      <td>Won</td>\n",
       "    </tr>\n",
       "    <tr>\n",
       "      <th>3</th>\n",
       "      <td>4</td>\n",
       "      <td>02-11-2013</td>\n",
       "      <td>209</td>\n",
       "      <td>132.27</td>\n",
       "      <td>ODI</td>\n",
       "      <td>1</td>\n",
       "      <td>1</td>\n",
       "      <td>Yes</td>\n",
       "      <td>Yes</td>\n",
       "      <td>No</td>\n",
       "      <td>Australia</td>\n",
       "      <td>M. Chinnaswamy Stadium, Bangalore</td>\n",
       "      <td>Home</td>\n",
       "      <td>Won</td>\n",
       "    </tr>\n",
       "    <tr>\n",
       "      <th>4</th>\n",
       "      <td>5</td>\n",
       "      <td>13-11-2014</td>\n",
       "      <td>264</td>\n",
       "      <td>152.60</td>\n",
       "      <td>ODI</td>\n",
       "      <td>2</td>\n",
       "      <td>1</td>\n",
       "      <td>Yes</td>\n",
       "      <td>Yes</td>\n",
       "      <td>No</td>\n",
       "      <td>Sri Lanka</td>\n",
       "      <td>Eden Gardens, Kolkata</td>\n",
       "      <td>Home</td>\n",
       "      <td>Won</td>\n",
       "    </tr>\n",
       "  </tbody>\n",
       "</table>\n",
       "</div>"
      ],
      "text/plain": [
       "   S.No.        Date  Score  Strike Rate Type of Match  Position  Innings  \\\n",
       "0      1  28-05-2010    114        95.79           ODI         4        1   \n",
       "1      2  30-05-2010    101       170.00           ODI         4        2   \n",
       "2      3  16-10-2013    141       114.63           ODI         1        2   \n",
       "3      4  02-11-2013    209       132.27           ODI         1        1   \n",
       "4      5  13-11-2014    264       152.60           ODI         2        1   \n",
       "\n",
       "  Dismissed  Man of the Match Captain    Against  \\\n",
       "0        Yes               No      No   Zimbabwe   \n",
       "1         No              Yes      No  Sri Lanka   \n",
       "2         No              Yes      No  Australia   \n",
       "3        Yes              Yes      No  Australia   \n",
       "4        Yes              Yes      No  Sri Lanka   \n",
       "\n",
       "                               Venue    H/A/N Result  \n",
       "0       Queens Sports Club, Bulawayo     Away   Lost  \n",
       "1       Queens Sports Club, Bulawayo  Neutral    Won  \n",
       "2     Sawai Mansingh Stadium, Jaipur     Home    Won  \n",
       "3  M. Chinnaswamy Stadium, Bangalore     Home    Won  \n",
       "4              Eden Gardens, Kolkata     Home    Won  "
      ]
     },
     "execution_count": 68,
     "metadata": {},
     "output_type": "execute_result"
    }
   ],
   "source": [
    "df=pd.read_csv(\"Datasest/Rohit_Sharma_Centuries.csv\")\n",
    "df.head()"
   ]
  },
  {
   "cell_type": "markdown",
   "id": "35ca95fe",
   "metadata": {
    "papermill": {
     "duration": 0.009991,
     "end_time": "2024-06-02T13:49:10.092043",
     "exception": false,
     "start_time": "2024-06-02T13:49:10.082052",
     "status": "completed"
    },
    "tags": []
   },
   "source": [
    "# Data Exploration"
   ]
  },
  {
   "cell_type": "code",
   "execution_count": 69,
   "id": "199401d5",
   "metadata": {
    "execution": {
     "iopub.execute_input": "2024-06-02T13:49:10.114829Z",
     "iopub.status.busy": "2024-06-02T13:49:10.114343Z",
     "iopub.status.idle": "2024-06-02T13:49:10.147847Z",
     "shell.execute_reply": "2024-06-02T13:49:10.146271Z"
    },
    "papermill": {
     "duration": 0.049183,
     "end_time": "2024-06-02T13:49:10.151665",
     "exception": false,
     "start_time": "2024-06-02T13:49:10.102482",
     "status": "completed"
    },
    "tags": []
   },
   "outputs": [
    {
     "name": "stdout",
     "output_type": "stream",
     "text": [
      "<class 'pandas.core.frame.DataFrame'>\n",
      "RangeIndex: 48 entries, 0 to 47\n",
      "Data columns (total 14 columns):\n",
      " #   Column            Non-Null Count  Dtype  \n",
      "---  ------            --------------  -----  \n",
      " 0   S.No.             48 non-null     int64  \n",
      " 1   Date              48 non-null     object \n",
      " 2   Score             48 non-null     int64  \n",
      " 3   Strike Rate       48 non-null     float64\n",
      " 4   Type of Match     48 non-null     object \n",
      " 5   Position          48 non-null     int64  \n",
      " 6   Innings           48 non-null     int64  \n",
      " 7   Dismissed         48 non-null     object \n",
      " 8   Man of the Match  48 non-null     object \n",
      " 9   Captain           48 non-null     object \n",
      " 10  Against           48 non-null     object \n",
      " 11  Venue             48 non-null     object \n",
      " 12  H/A/N             48 non-null     object \n",
      " 13  Result            48 non-null     object \n",
      "dtypes: float64(1), int64(4), object(9)\n",
      "memory usage: 5.4+ KB\n"
     ]
    }
   ],
   "source": [
    "df.info()"
   ]
  },
  {
   "cell_type": "code",
   "execution_count": 70,
   "id": "f91bf0be",
   "metadata": {
    "execution": {
     "iopub.execute_input": "2024-06-02T13:49:10.174663Z",
     "iopub.status.busy": "2024-06-02T13:49:10.174239Z",
     "iopub.status.idle": "2024-06-02T13:49:10.208313Z",
     "shell.execute_reply": "2024-06-02T13:49:10.206871Z"
    },
    "papermill": {
     "duration": 0.049157,
     "end_time": "2024-06-02T13:49:10.211445",
     "exception": false,
     "start_time": "2024-06-02T13:49:10.162288",
     "status": "completed"
    },
    "tags": []
   },
   "outputs": [
    {
     "data": {
      "text/html": [
       "<div>\n",
       "<style scoped>\n",
       "    .dataframe tbody tr th:only-of-type {\n",
       "        vertical-align: middle;\n",
       "    }\n",
       "\n",
       "    .dataframe tbody tr th {\n",
       "        vertical-align: top;\n",
       "    }\n",
       "\n",
       "    .dataframe thead th {\n",
       "        text-align: right;\n",
       "    }\n",
       "</style>\n",
       "<table border=\"1\" class=\"dataframe\">\n",
       "  <thead>\n",
       "    <tr style=\"text-align: right;\">\n",
       "      <th></th>\n",
       "      <th>S.No.</th>\n",
       "      <th>Score</th>\n",
       "      <th>Strike Rate</th>\n",
       "      <th>Position</th>\n",
       "      <th>Innings</th>\n",
       "    </tr>\n",
       "  </thead>\n",
       "  <tbody>\n",
       "    <tr>\n",
       "      <th>count</th>\n",
       "      <td>48.00</td>\n",
       "      <td>48.000000</td>\n",
       "      <td>48.000000</td>\n",
       "      <td>48.000000</td>\n",
       "      <td>48.000000</td>\n",
       "    </tr>\n",
       "    <tr>\n",
       "      <th>mean</th>\n",
       "      <td>24.50</td>\n",
       "      <td>134.937500</td>\n",
       "      <td>109.656042</td>\n",
       "      <td>1.708333</td>\n",
       "      <td>1.541667</td>\n",
       "    </tr>\n",
       "    <tr>\n",
       "      <th>std</th>\n",
       "      <td>14.00</td>\n",
       "      <td>34.744298</td>\n",
       "      <td>41.704401</td>\n",
       "      <td>1.320192</td>\n",
       "      <td>0.581939</td>\n",
       "    </tr>\n",
       "    <tr>\n",
       "      <th>min</th>\n",
       "      <td>1.00</td>\n",
       "      <td>100.000000</td>\n",
       "      <td>50.560000</td>\n",
       "      <td>1.000000</td>\n",
       "      <td>1.000000</td>\n",
       "    </tr>\n",
       "    <tr>\n",
       "      <th>25%</th>\n",
       "      <td>12.75</td>\n",
       "      <td>111.000000</td>\n",
       "      <td>85.197500</td>\n",
       "      <td>1.000000</td>\n",
       "      <td>1.000000</td>\n",
       "    </tr>\n",
       "    <tr>\n",
       "      <th>50%</th>\n",
       "      <td>24.50</td>\n",
       "      <td>124.500000</td>\n",
       "      <td>105.710000</td>\n",
       "      <td>1.000000</td>\n",
       "      <td>1.500000</td>\n",
       "    </tr>\n",
       "    <tr>\n",
       "      <th>75%</th>\n",
       "      <td>36.25</td>\n",
       "      <td>147.750000</td>\n",
       "      <td>121.100000</td>\n",
       "      <td>2.000000</td>\n",
       "      <td>2.000000</td>\n",
       "    </tr>\n",
       "    <tr>\n",
       "      <th>max</th>\n",
       "      <td>48.00</td>\n",
       "      <td>264.000000</td>\n",
       "      <td>274.410000</td>\n",
       "      <td>6.000000</td>\n",
       "      <td>3.000000</td>\n",
       "    </tr>\n",
       "  </tbody>\n",
       "</table>\n",
       "</div>"
      ],
      "text/plain": [
       "       S.No.       Score  Strike Rate   Position    Innings\n",
       "count  48.00   48.000000    48.000000  48.000000  48.000000\n",
       "mean   24.50  134.937500   109.656042   1.708333   1.541667\n",
       "std    14.00   34.744298    41.704401   1.320192   0.581939\n",
       "min     1.00  100.000000    50.560000   1.000000   1.000000\n",
       "25%    12.75  111.000000    85.197500   1.000000   1.000000\n",
       "50%    24.50  124.500000   105.710000   1.000000   1.500000\n",
       "75%    36.25  147.750000   121.100000   2.000000   2.000000\n",
       "max    48.00  264.000000   274.410000   6.000000   3.000000"
      ]
     },
     "execution_count": 70,
     "metadata": {},
     "output_type": "execute_result"
    }
   ],
   "source": [
    "df.describe()"
   ]
  },
  {
   "cell_type": "code",
   "execution_count": 71,
   "id": "5dcc7ba7",
   "metadata": {
    "execution": {
     "iopub.execute_input": "2024-06-02T13:49:10.237149Z",
     "iopub.status.busy": "2024-06-02T13:49:10.236660Z",
     "iopub.status.idle": "2024-06-02T13:49:10.267876Z",
     "shell.execute_reply": "2024-06-02T13:49:10.266429Z"
    },
    "papermill": {
     "duration": 0.047893,
     "end_time": "2024-06-02T13:49:10.270591",
     "exception": false,
     "start_time": "2024-06-02T13:49:10.222698",
     "status": "completed"
    },
    "tags": []
   },
   "outputs": [
    {
     "data": {
      "text/html": [
       "<div>\n",
       "<style scoped>\n",
       "    .dataframe tbody tr th:only-of-type {\n",
       "        vertical-align: middle;\n",
       "    }\n",
       "\n",
       "    .dataframe tbody tr th {\n",
       "        vertical-align: top;\n",
       "    }\n",
       "\n",
       "    .dataframe thead th {\n",
       "        text-align: right;\n",
       "    }\n",
       "</style>\n",
       "<table border=\"1\" class=\"dataframe\">\n",
       "  <thead>\n",
       "    <tr style=\"text-align: right;\">\n",
       "      <th></th>\n",
       "      <th>Date</th>\n",
       "      <th>Type of Match</th>\n",
       "      <th>Dismissed</th>\n",
       "      <th>Man of the Match</th>\n",
       "      <th>Captain</th>\n",
       "      <th>Against</th>\n",
       "      <th>Venue</th>\n",
       "      <th>H/A/N</th>\n",
       "      <th>Result</th>\n",
       "    </tr>\n",
       "  </thead>\n",
       "  <tbody>\n",
       "    <tr>\n",
       "      <th>count</th>\n",
       "      <td>48</td>\n",
       "      <td>48</td>\n",
       "      <td>48</td>\n",
       "      <td>48</td>\n",
       "      <td>48</td>\n",
       "      <td>48</td>\n",
       "      <td>48</td>\n",
       "      <td>48</td>\n",
       "      <td>48</td>\n",
       "    </tr>\n",
       "    <tr>\n",
       "      <th>unique</th>\n",
       "      <td>47</td>\n",
       "      <td>3</td>\n",
       "      <td>2</td>\n",
       "      <td>2</td>\n",
       "      <td>2</td>\n",
       "      <td>10</td>\n",
       "      <td>35</td>\n",
       "      <td>3</td>\n",
       "      <td>3</td>\n",
       "    </tr>\n",
       "    <tr>\n",
       "      <th>top</th>\n",
       "      <td>02-10-2019</td>\n",
       "      <td>ODI</td>\n",
       "      <td>Yes</td>\n",
       "      <td>Yes</td>\n",
       "      <td>No</td>\n",
       "      <td>Australia</td>\n",
       "      <td>M. Chinnaswamy Stadium, Bangalore</td>\n",
       "      <td>Home</td>\n",
       "      <td>Won</td>\n",
       "    </tr>\n",
       "    <tr>\n",
       "      <th>freq</th>\n",
       "      <td>2</td>\n",
       "      <td>31</td>\n",
       "      <td>33</td>\n",
       "      <td>28</td>\n",
       "      <td>37</td>\n",
       "      <td>9</td>\n",
       "      <td>3</td>\n",
       "      <td>27</td>\n",
       "      <td>39</td>\n",
       "    </tr>\n",
       "  </tbody>\n",
       "</table>\n",
       "</div>"
      ],
      "text/plain": [
       "              Date Type of Match Dismissed  Man of the Match Captain  \\\n",
       "count           48            48         48               48      48   \n",
       "unique          47             3          2                2       2   \n",
       "top     02-10-2019           ODI        Yes              Yes      No   \n",
       "freq             2            31         33               28      37   \n",
       "\n",
       "          Against                              Venue H/A/N Result  \n",
       "count          48                                 48    48     48  \n",
       "unique         10                                 35     3      3  \n",
       "top     Australia  M. Chinnaswamy Stadium, Bangalore  Home    Won  \n",
       "freq            9                                  3    27     39  "
      ]
     },
     "execution_count": 71,
     "metadata": {},
     "output_type": "execute_result"
    }
   ],
   "source": [
    "df.describe(include='object')"
   ]
  },
  {
   "cell_type": "markdown",
   "id": "e1169b50",
   "metadata": {
    "papermill": {
     "duration": 0.011621,
     "end_time": "2024-06-02T13:49:10.293160",
     "exception": false,
     "start_time": "2024-06-02T13:49:10.281539",
     "status": "completed"
    },
    "tags": []
   },
   "source": [
    "# **Data Cleaning**"
   ]
  },
  {
   "cell_type": "code",
   "execution_count": 72,
   "id": "e83d8f56",
   "metadata": {
    "execution": {
     "iopub.execute_input": "2024-06-02T13:49:10.318497Z",
     "iopub.status.busy": "2024-06-02T13:49:10.318022Z",
     "iopub.status.idle": "2024-06-02T13:49:10.344927Z",
     "shell.execute_reply": "2024-06-02T13:49:10.343611Z"
    },
    "papermill": {
     "duration": 0.043518,
     "end_time": "2024-06-02T13:49:10.348051",
     "exception": false,
     "start_time": "2024-06-02T13:49:10.304533",
     "status": "completed"
    },
    "tags": []
   },
   "outputs": [
    {
     "data": {
      "text/html": [
       "<div>\n",
       "<style scoped>\n",
       "    .dataframe tbody tr th:only-of-type {\n",
       "        vertical-align: middle;\n",
       "    }\n",
       "\n",
       "    .dataframe tbody tr th {\n",
       "        vertical-align: top;\n",
       "    }\n",
       "\n",
       "    .dataframe thead th {\n",
       "        text-align: right;\n",
       "    }\n",
       "</style>\n",
       "<table border=\"1\" class=\"dataframe\">\n",
       "  <thead>\n",
       "    <tr style=\"text-align: right;\">\n",
       "      <th></th>\n",
       "      <th>Score</th>\n",
       "      <th>Strike Rate</th>\n",
       "      <th>Type of Match</th>\n",
       "      <th>Position</th>\n",
       "      <th>Innings</th>\n",
       "      <th>Dismissed</th>\n",
       "      <th>Man of the Match</th>\n",
       "      <th>Captain</th>\n",
       "      <th>Against</th>\n",
       "      <th>Venue</th>\n",
       "      <th>H/A/N</th>\n",
       "      <th>Result</th>\n",
       "    </tr>\n",
       "  </thead>\n",
       "  <tbody>\n",
       "    <tr>\n",
       "      <th>26</th>\n",
       "      <td>103</td>\n",
       "      <td>109.57</td>\n",
       "      <td>ODI</td>\n",
       "      <td>2</td>\n",
       "      <td>2</td>\n",
       "      <td>Yes</td>\n",
       "      <td>Yes</td>\n",
       "      <td>No</td>\n",
       "      <td>Sri Lanka</td>\n",
       "      <td>Headingley Cricket Ground, Leeds</td>\n",
       "      <td>Neutral</td>\n",
       "      <td>Won</td>\n",
       "    </tr>\n",
       "    <tr>\n",
       "      <th>36</th>\n",
       "      <td>212</td>\n",
       "      <td>83.13</td>\n",
       "      <td>Test</td>\n",
       "      <td>2</td>\n",
       "      <td>1</td>\n",
       "      <td>Yes</td>\n",
       "      <td>Yes</td>\n",
       "      <td>No</td>\n",
       "      <td>South Africa</td>\n",
       "      <td>JSCA International Stadium Complex, Ranchi</td>\n",
       "      <td>Home</td>\n",
       "      <td>Won</td>\n",
       "    </tr>\n",
       "    <tr>\n",
       "      <th>28</th>\n",
       "      <td>119</td>\n",
       "      <td>92.96</td>\n",
       "      <td>ODI</td>\n",
       "      <td>1</td>\n",
       "      <td>2</td>\n",
       "      <td>Yes</td>\n",
       "      <td>Yes</td>\n",
       "      <td>No</td>\n",
       "      <td>Australia</td>\n",
       "      <td>M. Chinnaswamy Stadium, Bangalore</td>\n",
       "      <td>Home</td>\n",
       "      <td>Won</td>\n",
       "    </tr>\n",
       "    <tr>\n",
       "      <th>3</th>\n",
       "      <td>209</td>\n",
       "      <td>132.27</td>\n",
       "      <td>ODI</td>\n",
       "      <td>1</td>\n",
       "      <td>1</td>\n",
       "      <td>Yes</td>\n",
       "      <td>Yes</td>\n",
       "      <td>No</td>\n",
       "      <td>Australia</td>\n",
       "      <td>M. Chinnaswamy Stadium, Bangalore</td>\n",
       "      <td>Home</td>\n",
       "      <td>Won</td>\n",
       "    </tr>\n",
       "    <tr>\n",
       "      <th>25</th>\n",
       "      <td>104</td>\n",
       "      <td>113.04</td>\n",
       "      <td>ODI</td>\n",
       "      <td>2</td>\n",
       "      <td>1</td>\n",
       "      <td>Yes</td>\n",
       "      <td>Yes</td>\n",
       "      <td>No</td>\n",
       "      <td>Bangladesh</td>\n",
       "      <td>Edgbaston Cricket Ground, Birmingham</td>\n",
       "      <td>Neutral</td>\n",
       "      <td>Won</td>\n",
       "    </tr>\n",
       "  </tbody>\n",
       "</table>\n",
       "</div>"
      ],
      "text/plain": [
       "    Score  Strike Rate Type of Match  Position  Innings Dismissed   \\\n",
       "26    103       109.57           ODI         2        2        Yes   \n",
       "36    212        83.13          Test         2        1        Yes   \n",
       "28    119        92.96           ODI         1        2        Yes   \n",
       "3     209       132.27           ODI         1        1        Yes   \n",
       "25    104       113.04           ODI         2        1        Yes   \n",
       "\n",
       "   Man of the Match Captain       Against  \\\n",
       "26              Yes      No     Sri Lanka   \n",
       "36              Yes      No  South Africa   \n",
       "28              Yes      No     Australia   \n",
       "3               Yes      No     Australia   \n",
       "25              Yes      No    Bangladesh   \n",
       "\n",
       "                                         Venue    H/A/N Result  \n",
       "26            Headingley Cricket Ground, Leeds  Neutral    Won  \n",
       "36  JSCA International Stadium Complex, Ranchi     Home    Won  \n",
       "28           M. Chinnaswamy Stadium, Bangalore     Home    Won  \n",
       "3            M. Chinnaswamy Stadium, Bangalore     Home    Won  \n",
       "25        Edgbaston Cricket Ground, Birmingham  Neutral    Won  "
      ]
     },
     "execution_count": 72,
     "metadata": {},
     "output_type": "execute_result"
    }
   ],
   "source": [
    "df = df.drop(['S.No.', 'Date'], axis='columns')\n",
    "df.sample(5)"
   ]
  },
  {
   "cell_type": "code",
   "execution_count": 73,
   "id": "79f0da14",
   "metadata": {
    "execution": {
     "iopub.execute_input": "2024-06-02T13:49:10.372868Z",
     "iopub.status.busy": "2024-06-02T13:49:10.372431Z",
     "iopub.status.idle": "2024-06-02T13:49:10.383188Z",
     "shell.execute_reply": "2024-06-02T13:49:10.381602Z"
    },
    "papermill": {
     "duration": 0.027084,
     "end_time": "2024-06-02T13:49:10.386265",
     "exception": false,
     "start_time": "2024-06-02T13:49:10.359181",
     "status": "completed"
    },
    "tags": []
   },
   "outputs": [
    {
     "data": {
      "text/plain": [
       "Score               0\n",
       "Strike Rate         0\n",
       "Type of Match       0\n",
       "Position            0\n",
       "Innings             0\n",
       "Dismissed           0\n",
       "Man of the Match    0\n",
       "Captain             0\n",
       "Against             0\n",
       "Venue               0\n",
       "H/A/N               0\n",
       "Result              0\n",
       "dtype: int64"
      ]
     },
     "execution_count": 73,
     "metadata": {},
     "output_type": "execute_result"
    }
   ],
   "source": [
    "df.isna().sum()"
   ]
  },
  {
   "cell_type": "markdown",
   "id": "8f2058cf",
   "metadata": {
    "papermill": {
     "duration": 0.011328,
     "end_time": "2024-06-02T13:49:10.409045",
     "exception": false,
     "start_time": "2024-06-02T13:49:10.397717",
     "status": "completed"
    },
    "tags": []
   },
   "source": [
    "**Adding Relevant Column**"
   ]
  },
  {
   "cell_type": "code",
   "execution_count": 74,
   "id": "9a825992",
   "metadata": {
    "execution": {
     "iopub.execute_input": "2024-06-02T13:49:10.435171Z",
     "iopub.status.busy": "2024-06-02T13:49:10.434679Z",
     "iopub.status.idle": "2024-06-02T13:49:10.447085Z",
     "shell.execute_reply": "2024-06-02T13:49:10.445758Z"
    },
    "papermill": {
     "duration": 0.02874,
     "end_time": "2024-06-02T13:49:10.450200",
     "exception": false,
     "start_time": "2024-06-02T13:49:10.421460",
     "status": "completed"
    },
    "tags": []
   },
   "outputs": [
    {
     "data": {
      "text/plain": [
       "0    119\n",
       "1     59\n",
       "2    123\n",
       "3    158\n",
       "4    173\n",
       "Name: Balls_Faced, dtype: int32"
      ]
     },
     "execution_count": 74,
     "metadata": {},
     "output_type": "execute_result"
    }
   ],
   "source": [
    "Balls_Faced = df['Score'] / df['Strike Rate'] * 100\n",
    "Balls_Faced=Balls_Faced.astype(int)\n",
    "df['Balls_Faced'] = Balls_Faced\n",
    "df['Balls_Faced'].head()"
   ]
  },
  {
   "cell_type": "markdown",
   "id": "c04e1dc5",
   "metadata": {
    "papermill": {
     "duration": 0.011093,
     "end_time": "2024-06-02T13:49:10.472782",
     "exception": false,
     "start_time": "2024-06-02T13:49:10.461689",
     "status": "completed"
    },
    "tags": []
   },
   "source": [
    "**Slight Correction In 'Result' Column**"
   ]
  },
  {
   "cell_type": "code",
   "execution_count": 75,
   "id": "fa893c43",
   "metadata": {
    "execution": {
     "iopub.execute_input": "2024-06-02T13:49:10.497808Z",
     "iopub.status.busy": "2024-06-02T13:49:10.497379Z",
     "iopub.status.idle": "2024-06-02T13:49:10.507179Z",
     "shell.execute_reply": "2024-06-02T13:49:10.505767Z"
    },
    "papermill": {
     "duration": 0.025732,
     "end_time": "2024-06-02T13:49:10.510039",
     "exception": false,
     "start_time": "2024-06-02T13:49:10.484307",
     "status": "completed"
    },
    "tags": []
   },
   "outputs": [
    {
     "data": {
      "text/plain": [
       "array(['Lost', 'Won', 'Won '], dtype=object)"
      ]
     },
     "execution_count": 75,
     "metadata": {},
     "output_type": "execute_result"
    }
   ],
   "source": [
    "df['Result'].unique()"
   ]
  },
  {
   "cell_type": "code",
   "execution_count": 76,
   "id": "71e28853",
   "metadata": {
    "execution": {
     "iopub.execute_input": "2024-06-02T13:49:10.536861Z",
     "iopub.status.busy": "2024-06-02T13:49:10.536342Z",
     "iopub.status.idle": "2024-06-02T13:49:10.547417Z",
     "shell.execute_reply": "2024-06-02T13:49:10.546172Z"
    },
    "papermill": {
     "duration": 0.027954,
     "end_time": "2024-06-02T13:49:10.550190",
     "exception": false,
     "start_time": "2024-06-02T13:49:10.522236",
     "status": "completed"
    },
    "tags": []
   },
   "outputs": [
    {
     "data": {
      "text/plain": [
       "array(['Lost', 'Won'], dtype=object)"
      ]
     },
     "execution_count": 76,
     "metadata": {},
     "output_type": "execute_result"
    }
   ],
   "source": [
    "df['Result']= df['Result'].str.replace('Won ','Won')\n",
    "df['Result'].unique()"
   ]
  },
  {
   "cell_type": "markdown",
   "id": "7ed39a63",
   "metadata": {
    "papermill": {
     "duration": 0.011792,
     "end_time": "2024-06-02T13:49:10.574689",
     "exception": false,
     "start_time": "2024-06-02T13:49:10.562897",
     "status": "completed"
    },
    "tags": []
   },
   "source": [
    "# Data Visualization"
   ]
  },
  {
   "cell_type": "markdown",
   "id": "54ffe573",
   "metadata": {
    "papermill": {
     "duration": 0.011907,
     "end_time": "2024-06-02T13:49:10.598887",
     "exception": false,
     "start_time": "2024-06-02T13:49:10.586980",
     "status": "completed"
    },
    "tags": []
   },
   "source": [
    "# Strike Rate Range"
   ]
  },
  {
   "cell_type": "code",
   "execution_count": 77,
   "id": "07d3add0",
   "metadata": {
    "execution": {
     "iopub.execute_input": "2024-06-02T13:49:10.626155Z",
     "iopub.status.busy": "2024-06-02T13:49:10.625628Z",
     "iopub.status.idle": "2024-06-02T13:49:13.058222Z",
     "shell.execute_reply": "2024-06-02T13:49:13.056782Z"
    },
    "papermill": {
     "duration": 2.449638,
     "end_time": "2024-06-02T13:49:13.061040",
     "exception": false,
     "start_time": "2024-06-02T13:49:10.611402",
     "status": "completed"
    },
    "tags": []
   },
   "outputs": [
    {
     "data": {
      "image/png": "[encoded data removed]",
      "text/plain": [
       "<IPython.core.display.Image object>"
      ]
     },
     "execution_count": 77,
     "metadata": {},
     "output_type": "execute_result"
    }
   ],
   "source": [
    "\n",
    "fig = px.histogram(x=df['Strike Rate'],nbins=47,marginal='box',labels={ 'count':'Frequency Of Strike Rate','x':'Strike Rate Range'\n",
    "}, title = \"Strike Rate Range\")\n",
    "\n",
    "fig.update_layout(bargap=0.1)\n",
    "#fig.show()\n",
    "\n",
    "#Save the figure as static image to be able to render in github code block\n",
    "fig.write_image(\"scatter_plot.png\")\n",
    "\n",
    "#Display the figure inline in the notebook as static image\n",
    "from IPython.display import Image, display\n",
    "Image(\"scatter_plot.png\")"
   ]
  },
  {
   "cell_type": "code",
   "execution_count": 78,
   "id": "c295e1c5",
   "metadata": {
    "execution": {
     "iopub.execute_input": "2024-06-02T13:49:13.090920Z",
     "iopub.status.busy": "2024-06-02T13:49:13.090365Z",
     "iopub.status.idle": "2024-06-02T13:49:13.104199Z",
     "shell.execute_reply": "2024-06-02T13:49:13.102961Z"
    },
    "papermill": {
     "duration": 0.032196,
     "end_time": "2024-06-02T13:49:13.107394",
     "exception": false,
     "start_time": "2024-06-02T13:49:13.075198",
     "status": "completed"
    },
    "tags": []
   },
   "outputs": [
    {
     "data": {
      "text/plain": [
       "count     48.000000\n",
       "mean     109.656042\n",
       "std       41.704401\n",
       "min       50.560000\n",
       "25%       85.197500\n",
       "50%      105.710000\n",
       "75%      121.100000\n",
       "max      274.410000\n",
       "Name: Strike Rate, dtype: float64"
      ]
     },
     "execution_count": 78,
     "metadata": {},
     "output_type": "execute_result"
    }
   ],
   "source": [
    "df['Strike Rate'].describe()"
   ]
  },
  {
   "cell_type": "markdown",
   "id": "5d615364",
   "metadata": {
    "papermill": {
     "duration": 0.012078,
     "end_time": "2024-06-02T13:49:13.132386",
     "exception": false,
     "start_time": "2024-06-02T13:49:13.120308",
     "status": "completed"
    },
    "tags": []
   },
   "source": [
    "# Runs Scored Against Oppositions"
   ]
  },
  {
   "cell_type": "code",
   "execution_count": 79,
   "id": "4eb601cb",
   "metadata": {
    "execution": {
     "iopub.execute_input": "2024-06-02T13:49:13.159807Z",
     "iopub.status.busy": "2024-06-02T13:49:13.159230Z",
     "iopub.status.idle": "2024-06-02T13:49:13.445201Z",
     "shell.execute_reply": "2024-06-02T13:49:13.444112Z"
    },
    "papermill": {
     "duration": 0.303214,
     "end_time": "2024-06-02T13:49:13.448139",
     "exception": false,
     "start_time": "2024-06-02T13:49:13.144925",
     "status": "completed"
    },
    "tags": []
   },
   "outputs": [
    {
     "data": {
      "image/png": "[encoded data removed]",
      "text/plain": [
       "<IPython.core.display.Image object>"
      ]
     },
     "execution_count": 79,
     "metadata": {},
     "output_type": "execute_result"
    }
   ],
   "source": [
    "fig1 = px.bar(df,x='Score',y='Against',color=df['H/A/N'],title='Runs Scored Against Teams')\n",
    "#fig.show()\n",
    "#Save the figure as static image to be able to render in github code block\n",
    "fig1.write_image(\"scatter_plot1.png\")\n",
    "\n",
    "#Display the figure inline in the notebook as static image\n",
    "Image(\"scatter_plot1.png\")"
   ]
  },
  {
   "cell_type": "markdown",
   "id": "eeaccc14",
   "metadata": {
    "papermill": {
     "duration": 0.012676,
     "end_time": "2024-06-02T13:49:13.473984",
     "exception": false,
     "start_time": "2024-06-02T13:49:13.461308",
     "status": "completed"
    },
    "tags": []
   },
   "source": [
    "# Centuries In Different Format Of Games"
   ]
  },
  {
   "cell_type": "code",
   "execution_count": 80,
   "id": "42ff0c30",
   "metadata": {
    "execution": {
     "iopub.execute_input": "2024-06-02T13:49:13.502557Z",
     "iopub.status.busy": "2024-06-02T13:49:13.502074Z",
     "iopub.status.idle": "2024-06-02T13:49:13.594334Z",
     "shell.execute_reply": "2024-06-02T13:49:13.592894Z"
    },
    "papermill": {
     "duration": 0.110115,
     "end_time": "2024-06-02T13:49:13.597148",
     "exception": false,
     "start_time": "2024-06-02T13:49:13.487033",
     "status": "completed"
    },
    "tags": []
   },
   "outputs": [
    {
     "data": {
      "image/png": "[encoded data removed]",
      "text/plain": [
       "<IPython.core.display.Image object>"
      ]
     },
     "execution_count": 80,
     "metadata": {},
     "output_type": "execute_result"
    }
   ],
   "source": [
    "fig2 = px.bar(df,x='Type of Match',color=df['H/A/N'],labels={\"count\": \"No.of Centuries\"} , title = \"Centuries In Different Format Of Game\")\n",
    "#fig.show()\n",
    "\n",
    "#Save the figure as static image to be able to render in github code block\n",
    "fig2.write_image(\"scatter_plot2.png\")\n",
    "\n",
    "#Display the figure inline in the notebook as static image\n",
    "Image(\"scatter_plot2.png\")"
   ]
  },
  {
   "cell_type": "markdown",
   "id": "3ebebc92",
   "metadata": {
    "papermill": {
     "duration": 0.013259,
     "end_time": "2024-06-02T13:49:13.625785",
     "exception": false,
     "start_time": "2024-06-02T13:49:13.612526",
     "status": "completed"
    },
    "tags": []
   },
   "source": [
    "# Runs Against Balls Faced"
   ]
  },
  {
   "cell_type": "code",
   "execution_count": 81,
   "id": "3919ff84",
   "metadata": {
    "execution": {
     "iopub.execute_input": "2024-06-02T13:49:13.656143Z",
     "iopub.status.busy": "2024-06-02T13:49:13.655669Z",
     "iopub.status.idle": "2024-06-02T13:49:13.777437Z",
     "shell.execute_reply": "2024-06-02T13:49:13.775616Z"
    },
    "papermill": {
     "duration": 0.141581,
     "end_time": "2024-06-02T13:49:13.780972",
     "exception": false,
     "start_time": "2024-06-02T13:49:13.639391",
     "status": "completed"
    },
    "tags": []
   },
   "outputs": [
    {
     "data": {
      "image/png": "[encoded data removed]",
      "text/plain": [
       "<IPython.core.display.Image object>"
      ]
     },
     "execution_count": 81,
     "metadata": {},
     "output_type": "execute_result"
    }
   ],
   "source": [
    "fig3 = px.scatter(df,x=df['Score'],y=df['Balls_Faced'] , color=df['Result'],width=800,height=600,title = 'Runs Scored Against Balls Played')\n",
    "#fig.show()\n",
    "\n",
    "#Save the figure as static image to be able to render in github code block\n",
    "fig3.write_image(\"scatter_plot3.png\")\n",
    "\n",
    "#Display the figure inline in the notebook as static image\n",
    "Image(\"scatter_plot3.png\")"
   ]
  },
  {
   "cell_type": "markdown",
   "id": "e601ad8a",
   "metadata": {
    "papermill": {
     "duration": 0.013585,
     "end_time": "2024-06-02T13:49:13.809361",
     "exception": false,
     "start_time": "2024-06-02T13:49:13.795776",
     "status": "completed"
    },
    "tags": []
   },
   "source": [
    "# Strike Rate Against Balls Faced"
   ]
  },
  {
   "cell_type": "code",
   "execution_count": 82,
   "id": "2bee9408",
   "metadata": {
    "execution": {
     "iopub.execute_input": "2024-06-02T13:49:13.839172Z",
     "iopub.status.busy": "2024-06-02T13:49:13.838748Z",
     "iopub.status.idle": "2024-06-02T13:49:13.924444Z",
     "shell.execute_reply": "2024-06-02T13:49:13.922829Z"
    },
    "papermill": {
     "duration": 0.103997,
     "end_time": "2024-06-02T13:49:13.927344",
     "exception": false,
     "start_time": "2024-06-02T13:49:13.823347",
     "status": "completed"
    },
    "tags": []
   },
   "outputs": [
    {
     "data": {
      "image/png": "[encoded data removed]",
      "text/plain": [
       "<IPython.core.display.Image object>"
      ]
     },
     "execution_count": 82,
     "metadata": {},
     "output_type": "execute_result"
    }
   ],
   "source": [
    "fig4 = px.scatter(df,x=df['Strike Rate'],y=df['Balls_Faced'] , color=df['Result'],width=800,height=600,title = 'Strike Rate Against Balls Played')\n",
    "#fig.show()\n",
    "\n",
    "#Save the figure as static image to be able to render in github code block\n",
    "fig4.write_image(\"scatter_plot.png\")\n",
    "\n",
    "#Display the figure inline in the notebook as static image\n",
    "Image(\"scatter_plot.png\")"
   ]
  },
  {
   "cell_type": "markdown",
   "id": "9da1d337",
   "metadata": {
    "papermill": {
     "duration": 0.01483,
     "end_time": "2024-06-02T13:49:13.956832",
     "exception": false,
     "start_time": "2024-06-02T13:49:13.942002",
     "status": "completed"
    },
    "tags": []
   },
   "source": [
    "# MOTM Recieved"
   ]
  },
  {
   "cell_type": "code",
   "execution_count": 83,
   "id": "9cad58d7",
   "metadata": {
    "execution": {
     "iopub.execute_input": "2024-06-02T13:49:13.989796Z",
     "iopub.status.busy": "2024-06-02T13:49:13.989302Z",
     "iopub.status.idle": "2024-06-02T13:49:14.222337Z",
     "shell.execute_reply": "2024-06-02T13:49:14.220652Z"
    },
    "papermill": {
     "duration": 0.252823,
     "end_time": "2024-06-02T13:49:14.225503",
     "exception": false,
     "start_time": "2024-06-02T13:49:13.972680",
     "status": "completed"
    },
    "tags": []
   },
   "outputs": [
    {
     "data": {
      "image/png": "[encoded data removed]",
      "text/plain": [
       "<Figure size 640x480 with 1 Axes>"
      ]
     },
     "metadata": {},
     "output_type": "display_data"
    }
   ],
   "source": [
    "sns.countplot(df,x='Man of the Match',hue=df['Result'])\n",
    "plt.show()"
   ]
  },
  {
   "cell_type": "code",
   "execution_count": 84,
   "id": "79f554b3",
   "metadata": {
    "execution": {
     "iopub.execute_input": "2024-06-02T13:49:14.288333Z",
     "iopub.status.busy": "2024-06-02T13:49:14.287861Z",
     "iopub.status.idle": "2024-06-02T13:49:14.551350Z",
     "shell.execute_reply": "2024-06-02T13:49:14.549811Z"
    },
    "papermill": {
     "duration": 0.282693,
     "end_time": "2024-06-02T13:49:14.554385",
     "exception": false,
     "start_time": "2024-06-02T13:49:14.271692",
     "status": "completed"
    },
    "tags": []
   },
   "outputs": [
    {
     "data": {
      "image/png": "[encoded data removed]",
      "text/plain": [
       "<Figure size 640x480 with 1 Axes>"
      ]
     },
     "metadata": {},
     "output_type": "display_data"
    }
   ],
   "source": [
    "sns.countplot(df,x='Captain',hue=df['Result'])\n",
    "plt.show()"
   ]
  }
 ],
 "metadata": {
  "kaggle": {
   "accelerator": "none",
   "dataSources": [
    {
     "datasetId": 4990687,
     "sourceId": 8390908,
     "sourceType": "datasetVersion"
    }
   ],
   "dockerImageVersionId": 30715,
   "isGpuEnabled": false,
   "isInternetEnabled": true,
   "language": "python",
   "sourceType": "notebook"
  },
  "kernelspec": {
   "display_name": "Python 3",
   "language": "python",
   "name": "python3"
  },
  "language_info": {
   "codemirror_mode": {
    "name": "ipython",
    "version": 3
   },
   "file_extension": ".py",
   "mimetype": "text/x-python",
   "name": "python",
   "nbconvert_exporter": "python",
   "pygments_lexer": "ipython3",
   "version": "3.12.0"
  },
  "papermill": {
   "default_parameters": {},
   "duration": 12.596817,
   "end_time": "2024-06-02T13:49:15.625474",
   "environment_variables": {},
   "exception": null,
   "input_path": "__notebook__.ipynb",
   "output_path": "__notebook__.ipynb",
   "parameters": {},
   "start_time": "2024-06-02T13:49:03.028657",
   "version": "2.5.0"
  }
 },
 "nbformat": 4,
 "nbformat_minor": 5
}
